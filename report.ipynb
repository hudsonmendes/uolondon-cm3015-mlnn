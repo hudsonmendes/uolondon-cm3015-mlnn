{
 "cells": [
  {
   "attachments": {},
   "cell_type": "markdown",
   "metadata": {},
   "source": [
    "# Coursework Assignment: KNN on Wine DataSet\n",
    "\n",
    "```\n",
    "University of London\n",
    "BSc in Computer Science\n",
    "CM3015, Machine Learning and Neural Networks\n",
    "Hudson Leonardo MENDES\n",
    "hlm12@student.london.ac.uk\n",
    "```"
   ]
  },
  {
   "attachments": {},
   "cell_type": "markdown",
   "metadata": {},
   "source": [
    "# 1. Exploratory Data Analysis"
   ]
  },
  {
   "cell_type": "code",
   "execution_count": null,
   "metadata": {},
   "outputs": [],
   "source": [
    "%matplotlib inline\n",
    "# import modules\n",
    "from sklearn import datasets import numpy as np\n",
    "import matplotlib.pyplot as plt import pandas as pd\n",
    "# load data\n",
    "wine=datasets.load_wine() #print(wine.DESCR)\n",
    "# this dataset has 13 features, we will only choose a subset of these\n",
    "df_wine = pd.DataFrame(wine.data, columns = wine.feature_names )\n",
    "selected_features = ['alcohol','flavanoids','color_intensity','ash']\n",
    "# extract the data as numpy arrays of features, X, and target, y\n",
    "X = df_wine[selected_features].values\n",
    "y = wine.target"
   ]
  },
  {
   "attachments": {},
   "cell_type": "markdown",
   "metadata": {},
   "source": [
    "## 1.1. Visualising the Data"
   ]
  },
  {
   "cell_type": "code",
   "execution_count": null,
   "metadata": {},
   "outputs": [],
   "source": [
    "def plot_wine_dataset_scatter(df):\n",
    "    pass"
   ]
  },
  {
   "cell_type": "code",
   "execution_count": null,
   "metadata": {},
   "outputs": [],
   "source": [
    "plot_wine_dataset_scatter(df=X)"
   ]
  },
  {
   "attachments": {},
   "cell_type": "markdown",
   "metadata": {},
   "source": [
    "## 1.2. Exploratory Data Analysis under Noise"
   ]
  },
  {
   "cell_type": "code",
   "execution_count": null,
   "metadata": {},
   "outputs": [],
   "source": [
    "r = 42\n",
    "np.random.seed(r)\n",
    "XN = X+np.random.normal(0,0.6,X.shape)"
   ]
  },
  {
   "cell_type": "code",
   "execution_count": null,
   "metadata": {},
   "outputs": [],
   "source": [
    "plot_wine_dataset_scatter(df=XN)"
   ]
  },
  {
   "attachments": {},
   "cell_type": "markdown",
   "metadata": {},
   "source": [
    "## 1.3. (Q1) Exploratory Data Analysis\n",
    "\n",
    "**Question:** If you were to build a classifier using only two of the available features, which ones would you choose any why?"
   ]
  },
  {
   "attachments": {},
   "cell_type": "markdown",
   "metadata": {},
   "source": [
    "**Answer:** `<answer>`"
   ]
  },
  {
   "attachments": {},
   "cell_type": "markdown",
   "metadata": {},
   "source": [
    "## 1.4. (Q2) Data with Noise\n",
    "\n",
    "**Question:** What do you observe by plotting the data without noise compared to plotting data with added Gaussian noise? "
   ]
  },
  {
   "attachments": {},
   "cell_type": "markdown",
   "metadata": {},
   "source": [
    "**Answer:** `<answer>`"
   ]
  },
  {
   "attachments": {},
   "cell_type": "markdown",
   "metadata": {},
   "source": [
    "#  2. Classifier Implementation"
   ]
  },
  {
   "cell_type": "code",
   "execution_count": null,
   "metadata": {},
   "outputs": [],
   "source": [
    "import numpy as np\n",
    "from typing import List, Any\n",
    "\n",
    "class KnnIndex:\n",
    "    documents: List[Any]\n",
    "    vectors: np.array\n",
    "\n",
    "    def __init__(self, documents, targets):\n",
    "        self.documents = documents\n",
    "        self.targets = targets\n",
    "        self.vectors = None #TODO: implement"
   ]
  },
  {
   "cell_type": "code",
   "execution_count": null,
   "metadata": {},
   "outputs": [],
   "source": [
    "def make_knn_classifier(X, y, X_, options):\n",
    "    \"\"\"\n",
    "    Performs a k-NN classification given a set of data.\n",
    "\n",
    "    :param X: documents representing the training data\n",
    "    :param y: training target classes/labels\n",
    "    :param X_: testing documents\n",
    "    :param y_: predicted outputs\n",
    "    \"\"\"\n",
    "    return KnnIndex(X, y).search(X_)"
   ]
  },
  {
   "attachments": {},
   "cell_type": "markdown",
   "metadata": {},
   "source": [
    "# 3. Classifier Evaluation"
   ]
  },
  {
   "attachments": {},
   "cell_type": "markdown",
   "metadata": {},
   "source": [
    "## 3.1. Nested Cross-Validation"
   ]
  },
  {
   "attachments": {},
   "cell_type": "markdown",
   "metadata": {},
   "source": [
    "## 3.2. Confusion Matrix"
   ]
  },
  {
   "attachments": {},
   "cell_type": "markdown",
   "metadata": {},
   "source": [
    "# 5. Conclusions"
   ]
  },
  {
   "attachments": {},
   "cell_type": "markdown",
   "metadata": {},
   "source": [
    "## 5.1. Influence of Noise"
   ]
  },
  {
   "attachments": {},
   "cell_type": "markdown",
   "metadata": {},
   "source": [
    "## 5.2. Beyond Wine"
   ]
  },
  {
   "attachments": {},
   "cell_type": "markdown",
   "metadata": {},
   "source": [
    "## 5.3. Final Considerations"
   ]
  },
  {
   "cell_type": "code",
   "execution_count": null,
   "metadata": {},
   "outputs": [],
   "source": []
  }
 ],
 "metadata": {
  "kernelspec": {
   "display_name": "Python 3",
   "language": "python",
   "name": "python3"
  },
  "language_info": {
   "name": "python",
   "version": "3.8.7 (default, Jul  2 2022, 19:29:37) \n[Clang 13.1.6 (clang-1316.0.21.2.5)]"
  },
  "orig_nbformat": 4,
  "vscode": {
   "interpreter": {
    "hash": "a8c67c6be957d18b4f893832060ea21cb9d5cc7308f3ad40e995715875d2cc5d"
   }
  }
 },
 "nbformat": 4,
 "nbformat_minor": 2
}
