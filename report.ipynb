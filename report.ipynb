{
 "cells": [
  {
   "attachments": {},
   "cell_type": "markdown",
   "metadata": {},
   "source": [
    "# Coursework Assignment: KNN on Wine DataSet\n",
    "\n",
    "```\n",
    "University of London\n",
    "BSc in Computer Science\n",
    "CM3015, Machine Learning and Neural Networks\n",
    "Hudson Leonardo MENDES\n",
    "hlm12@student.london.ac.uk\n",
    "```\n"
   ]
  },
  {
   "attachments": {},
   "cell_type": "markdown",
   "metadata": {},
   "source": [
    "# 1. Exploratory Data Analysis\n"
   ]
  },
  {
   "cell_type": "code",
   "execution_count": null,
   "metadata": {},
   "outputs": [],
   "source": [
    "%matplotlib inline\n",
    "# import modules\n",
    "from sklearn import datasets import numpy as np\n",
    "import matplotlib.pyplot as plt import pandas as pd\n",
    "# load data\n",
    "wine=datasets.load_wine() #print(wine.DESCR)\n",
    "# this dataset has 13 features, we will only choose a subset of these\n",
    "df_wine = pd.DataFrame(wine.data, columns = wine.feature_names )\n",
    "selected_features = ['alcohol','flavanoids','color_intensity','ash']\n",
    "# extract the data as numpy arrays of features, X, and target, y\n",
    "X = df_wine[selected_features].values\n",
    "y = wine.target"
   ]
  },
  {
   "attachments": {},
   "cell_type": "markdown",
   "metadata": {},
   "source": [
    "## 1.1. Visualising the Data\n"
   ]
  },
  {
   "cell_type": "code",
   "execution_count": null,
   "metadata": {},
   "outputs": [],
   "source": [
    "def plot_wine_dataset_scatter(df):\n",
    "    pass"
   ]
  },
  {
   "cell_type": "code",
   "execution_count": null,
   "metadata": {},
   "outputs": [],
   "source": [
    "plot_wine_dataset_scatter(df=X)"
   ]
  },
  {
   "attachments": {},
   "cell_type": "markdown",
   "metadata": {},
   "source": [
    "## 1.2. Exploratory Data Analysis under Noise\n"
   ]
  },
  {
   "cell_type": "code",
   "execution_count": null,
   "metadata": {},
   "outputs": [],
   "source": [
    "r = 42\n",
    "np.random.seed(r)\n",
    "XN = X+np.random.normal(0,0.6,X.shape)"
   ]
  },
  {
   "cell_type": "code",
   "execution_count": null,
   "metadata": {},
   "outputs": [],
   "source": [
    "plot_wine_dataset_scatter(df=XN)"
   ]
  },
  {
   "attachments": {},
   "cell_type": "markdown",
   "metadata": {},
   "source": [
    "## 1.3. (Q1) Exploratory Data Analysis\n",
    "\n",
    "**Question:** If you were to build a classifier using only two of the available features, which ones would you choose any why?\n"
   ]
  },
  {
   "attachments": {},
   "cell_type": "markdown",
   "metadata": {},
   "source": [
    "**Answer:** `<answer>`\n"
   ]
  },
  {
   "attachments": {},
   "cell_type": "markdown",
   "metadata": {},
   "source": [
    "## 1.4. (Q2) Data with Noise\n",
    "\n",
    "**Question:** What do you observe by plotting the data without noise compared to plotting data with added Gaussian noise?\n"
   ]
  },
  {
   "attachments": {},
   "cell_type": "markdown",
   "metadata": {},
   "source": [
    "**Answer:** `<answer>`\n"
   ]
  },
  {
   "attachments": {},
   "cell_type": "markdown",
   "metadata": {},
   "source": [
    "# 2. Classifier Implementation\n"
   ]
  },
  {
   "cell_type": "code",
   "execution_count": null,
   "metadata": {},
   "outputs": [],
   "source": [
    "import numpy as np\n",
    "from typing import List, Any\n",
    "\n",
    "class KnnIndex:\n",
    "    documents: List[Any]\n",
    "    vectors: np.array\n",
    "\n",
    "    def __init__(self, documents, targets):\n",
    "        self.documents = documents\n",
    "        self.targets = targets\n",
    "        self.vectors = None #TODO: implement"
   ]
  },
  {
   "cell_type": "code",
   "execution_count": null,
   "metadata": {},
   "outputs": [],
   "source": [
    "def knn_classification(X_train, y_train, X_test, options):\n",
    "    \"\"\"\n",
    "    Performs a k-NN classification given a set of data.\n",
    "\n",
    "    :param X: documents representing the training data\n",
    "    :param y: training target classes/labels\n",
    "    :param X_: testing documents\n",
    "    :param y_: predicted outputs\n",
    "    \"\"\"\n",
    "    index = KnnIndex(documents=X_train, targets=y_train)\n",
    "    return index.search(X_test)"
   ]
  },
  {
   "cell_type": "code",
   "execution_count": null,
   "metadata": {},
   "outputs": [],
   "source": [
    "train_proportion = 0.8\n",
    "train_size = int(X.shape[0] * train_proportion)\n",
    "X1, X2 = X[:train_size], X[train_size:]\n",
    "y1, y2 = y[:train_size], y[train_size:]\n",
    "(X1.shape, X2.shape, y1.shape, y2.shape)"
   ]
  },
  {
   "cell_type": "code",
   "execution_count": null,
   "metadata": {},
   "outputs": [],
   "source": [
    "knn_classification(\n",
    "    X_train=X1,\n",
    "    y_train=y1,\n",
    "    X_test=X2, options={})"
   ]
  },
  {
   "attachments": {},
   "cell_type": "markdown",
   "metadata": {},
   "source": [
    "# 3. Classifier Evaluation\n"
   ]
  },
  {
   "cell_type": "code",
   "execution_count": null,
   "metadata": {},
   "outputs": [],
   "source": [
    "def plot_metrics(X, y, X_, y_, options):\n",
    "    pass"
   ]
  },
  {
   "cell_type": "code",
   "execution_count": null,
   "metadata": {},
   "outputs": [],
   "source": [
    "plot_metrics(X)"
   ]
  },
  {
   "attachments": {},
   "cell_type": "markdown",
   "metadata": {},
   "source": [
    "## 3.1. Nested Cross-Validation\n"
   ]
  },
  {
   "cell_type": "code",
   "execution_count": null,
   "metadata": {},
   "outputs": [],
   "source": [
    "import numpy as np\n",
    "from typing import List\n",
    "\n",
    "def nested_cross_validation(\n",
    "        X_full: np.array,\n",
    "        y_full: np.array,\n",
    "        n_folds: int,\n",
    "        distances: List[str],\n",
    "        random_state: int,\n",
    "    ):\n",
    "    pass"
   ]
  },
  {
   "cell_type": "code",
   "execution_count": null,
   "metadata": {},
   "outputs": [],
   "source": [
    "accuracies_fold_X = nested_cross_validation(\n",
    "    X_full=X,\n",
    "    y_full=y,\n",
    "    n_knn=list(range(1, 11)),\n",
    "    n_folds=5,\n",
    "    distances=[\"euclidean\", \"manhattan\", \"cosine\"],\n",
    "    random_state=42\n",
    ")"
   ]
  },
  {
   "cell_type": "code",
   "execution_count": null,
   "metadata": {},
   "outputs": [],
   "source": [
    "accuracies_fold_XN = nested_cross_validation(\n",
    "    X_full=XN,\n",
    "    y_full=y,\n",
    "    n_knn=list(range(1, 11)),\n",
    "    n_folds=5,\n",
    "    distances=[\"euclidean\", \"manhattan\", \"cosine\"],\n",
    "    random_state=42\n",
    ")"
   ]
  },
  {
   "attachments": {},
   "cell_type": "markdown",
   "metadata": {},
   "source": [
    "# 5. Summary of Results\n"
   ]
  },
  {
   "attachments": {},
   "cell_type": "markdown",
   "metadata": {},
   "source": [
    "## 5.1. Consolidated Results\n"
   ]
  },
  {
   "attachments": {},
   "cell_type": "markdown",
   "metadata": {},
   "source": [
    "**Results on Non-Noisy Data**\n",
    "\n",
    "`<table>`"
   ]
  },
  {
   "attachments": {},
   "cell_type": "markdown",
   "metadata": {},
   "source": [
    "**Results on Noisy Data**\n",
    "\n",
    "`<table>`"
   ]
  },
  {
   "attachments": {},
   "cell_type": "markdown",
   "metadata": {},
   "source": [
    "# 6. More questions\n"
   ]
  },
  {
   "attachments": {},
   "cell_type": "markdown",
   "metadata": {},
   "source": [
    "## 6.1. [Q3] Influence of Noise\n",
    "\n",
    "**Question:** (a) Do the best parameters change when noise is added to the data? (b) Can you say that one parameter choice is better regardless of the data used?"
   ]
  },
  {
   "attachments": {},
   "cell_type": "markdown",
   "metadata": {},
   "source": [
    "**Answer:** `<answer>`"
   ]
  },
  {
   "attachments": {},
   "cell_type": "markdown",
   "metadata": {},
   "source": [
    "## 6.2. [Q4] Tie Break\n",
    "\n",
    "**Question:** Assume that you have selected the number of neighbours to be an even number (e.g.: 2). For one of the neighbours, the suggested class is 1, and for the other neighbours, the suggested class is 2. How would you  break the tie?"
   ]
  },
  {
   "attachments": {},
   "cell_type": "markdown",
   "metadata": {},
   "source": [
    "**Answer:** `<answer>`"
   ]
  },
  {
   "cell_type": "code",
   "execution_count": null,
   "metadata": {},
   "outputs": [],
   "source": []
  },
  {
   "attachments": {},
   "cell_type": "markdown",
   "metadata": {},
   "source": [
    "## 6.3. [Q5] Beyond  Wine\n",
    "\n",
    "**Question:** If you were to run your k-NN algorithm on a new dataset (e.g.: the breast cancer dataset, or iris), what would you need to take in consideration? Outline any changes that might be needed to your code."
   ]
  },
  {
   "attachments": {},
   "cell_type": "markdown",
   "metadata": {},
   "source": [
    "**Answer:** `<answer>`"
   ]
  },
  {
   "cell_type": "markdown",
   "metadata": {},
   "source": []
  }
 ],
 "metadata": {
  "kernelspec": {
   "display_name": "Python 3",
   "language": "python",
   "name": "python3"
  },
  "language_info": {
   "name": "python",
   "version": "3.8.7 (default, Jul  2 2022, 19:29:37) \n[Clang 13.1.6 (clang-1316.0.21.2.5)]"
  },
  "orig_nbformat": 4,
  "vscode": {
   "interpreter": {
    "hash": "a8c67c6be957d18b4f893832060ea21cb9d5cc7308f3ad40e995715875d2cc5d"
   }
  }
 },
 "nbformat": 4,
 "nbformat_minor": 2
}
